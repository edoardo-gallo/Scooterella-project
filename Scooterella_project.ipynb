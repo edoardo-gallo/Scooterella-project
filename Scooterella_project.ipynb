{
 "cells": [
  {
   "cell_type": "markdown",
   "metadata": {},
   "source": [
    "# Scooterella Project"
   ]
  },
  {
   "cell_type": "markdown",
   "metadata": {},
   "source": [
    "**Scooterella** is a company that operates in the electric scooter rental business. After most of the\n",
    "COVID-19 lockdowns have been lifted, **Scooterella** wants to get back to business with an aggressive\n",
    "**marketing campaign**. We want to identify clusters (or groups) of customers so that Scooterella can design a specific marketing strategy for each cluster."
   ]
  },
  {
   "cell_type": "code",
   "execution_count": 35,
   "metadata": {},
   "outputs": [],
   "source": [
    "# import libraries\n",
    "import pandas as pd\n",
    "import numpy as np\n",
    "from sklearn.preprocessing import StandardScaler\n",
    "from sklearn.cluster import KMeans \n",
    "import matplotlib.pyplot as plt\n",
    "from sklearn.decomposition import PCA \n",
    "import seaborn as sns"
   ]
  },
  {
   "cell_type": "markdown",
   "metadata": {},
   "source": [
    " The dataset (MarketSegmentation.csv) contains data related to trips represented using the following seven variables:\n",
    " - **female**: the user is female (1 if yes, 0 if no).\n",
    " - **age**: the age of the user (years).\n",
    " - **duration**: the time of the trip, in seconds\n",
    " - **morning**: the trip started between 6:00am and 12:00pm (1 if yes, 0 if no).\n",
    " - **afternoon**: the trip started between 12:00pm and 6:00pm (1 if yes, 0 if no).\n",
    " - **evening**: the trip started between 6:00pm and 12:00am (1 if yes, 0 if no).\n",
    " - **weekend_day**: the trip started on Saturday or Sunday (1 if yes, 0 if no).\n"
   ]
  },
  {
   "cell_type": "code",
   "execution_count": 36,
   "metadata": {},
   "outputs": [
    {
     "data": {
      "text/html": [
       "<div>\n",
       "<style scoped>\n",
       "    .dataframe tbody tr th:only-of-type {\n",
       "        vertical-align: middle;\n",
       "    }\n",
       "\n",
       "    .dataframe tbody tr th {\n",
       "        vertical-align: top;\n",
       "    }\n",
       "\n",
       "    .dataframe thead th {\n",
       "        text-align: right;\n",
       "    }\n",
       "</style>\n",
       "<table border=\"1\" class=\"dataframe\">\n",
       "  <thead>\n",
       "    <tr style=\"text-align: right;\">\n",
       "      <th></th>\n",
       "      <th>duration</th>\n",
       "      <th>morning</th>\n",
       "      <th>afternoon</th>\n",
       "      <th>evening</th>\n",
       "      <th>age</th>\n",
       "      <th>weekend_day</th>\n",
       "      <th>female</th>\n",
       "    </tr>\n",
       "  </thead>\n",
       "  <tbody>\n",
       "    <tr>\n",
       "      <th>0</th>\n",
       "      <td>212</td>\n",
       "      <td>0</td>\n",
       "      <td>1</td>\n",
       "      <td>0</td>\n",
       "      <td>17</td>\n",
       "      <td>0</td>\n",
       "      <td>0</td>\n",
       "    </tr>\n",
       "    <tr>\n",
       "      <th>1</th>\n",
       "      <td>229</td>\n",
       "      <td>0</td>\n",
       "      <td>1</td>\n",
       "      <td>0</td>\n",
       "      <td>17</td>\n",
       "      <td>0</td>\n",
       "      <td>0</td>\n",
       "    </tr>\n",
       "    <tr>\n",
       "      <th>2</th>\n",
       "      <td>259</td>\n",
       "      <td>0</td>\n",
       "      <td>0</td>\n",
       "      <td>1</td>\n",
       "      <td>17</td>\n",
       "      <td>1</td>\n",
       "      <td>1</td>\n",
       "    </tr>\n",
       "    <tr>\n",
       "      <th>3</th>\n",
       "      <td>273</td>\n",
       "      <td>0</td>\n",
       "      <td>1</td>\n",
       "      <td>0</td>\n",
       "      <td>17</td>\n",
       "      <td>0</td>\n",
       "      <td>0</td>\n",
       "    </tr>\n",
       "    <tr>\n",
       "      <th>4</th>\n",
       "      <td>279</td>\n",
       "      <td>0</td>\n",
       "      <td>1</td>\n",
       "      <td>0</td>\n",
       "      <td>17</td>\n",
       "      <td>0</td>\n",
       "      <td>1</td>\n",
       "    </tr>\n",
       "  </tbody>\n",
       "</table>\n",
       "</div>"
      ],
      "text/plain": [
       "   duration  morning  afternoon  evening  age  weekend_day  female\n",
       "0       212        0          1        0   17            0       0\n",
       "1       229        0          1        0   17            0       0\n",
       "2       259        0          0        1   17            1       1\n",
       "3       273        0          1        0   17            0       0\n",
       "4       279        0          1        0   17            0       1"
      ]
     },
     "execution_count": 36,
     "metadata": {},
     "output_type": "execute_result"
    }
   ],
   "source": [
    "# load dataset\n",
    "df = pd.read_csv(\"MarketSegmentation.csv\")\n",
    "df.head()"
   ]
  },
  {
   "cell_type": "code",
   "execution_count": 5,
   "metadata": {
    "scrolled": true
   },
   "outputs": [
    {
     "name": "stdout",
     "output_type": "stream",
     "text": [
      "<class 'pandas.core.frame.DataFrame'>\n",
      "RangeIndex: 185190 entries, 0 to 185189\n",
      "Data columns (total 7 columns):\n",
      " #   Column       Non-Null Count   Dtype\n",
      "---  ------       --------------   -----\n",
      " 0   duration     185190 non-null  int64\n",
      " 1   morning      185190 non-null  int64\n",
      " 2   afternoon    185190 non-null  int64\n",
      " 3   evening      185190 non-null  int64\n",
      " 4   age          185190 non-null  int64\n",
      " 5   weekend_day  185190 non-null  int64\n",
      " 6   female       185190 non-null  int64\n",
      "dtypes: int64(7)\n",
      "memory usage: 9.9 MB\n"
     ]
    }
   ],
   "source": [
    "df.info()"
   ]
  },
  {
   "cell_type": "code",
   "execution_count": 6,
   "metadata": {
    "scrolled": true
   },
   "outputs": [
    {
     "data": {
      "text/html": [
       "<div>\n",
       "<style scoped>\n",
       "    .dataframe tbody tr th:only-of-type {\n",
       "        vertical-align: middle;\n",
       "    }\n",
       "\n",
       "    .dataframe tbody tr th {\n",
       "        vertical-align: top;\n",
       "    }\n",
       "\n",
       "    .dataframe thead th {\n",
       "        text-align: right;\n",
       "    }\n",
       "</style>\n",
       "<table border=\"1\" class=\"dataframe\">\n",
       "  <thead>\n",
       "    <tr style=\"text-align: right;\">\n",
       "      <th></th>\n",
       "      <th>duration</th>\n",
       "      <th>morning</th>\n",
       "      <th>afternoon</th>\n",
       "      <th>evening</th>\n",
       "      <th>age</th>\n",
       "      <th>weekend_day</th>\n",
       "      <th>female</th>\n",
       "    </tr>\n",
       "  </thead>\n",
       "  <tbody>\n",
       "    <tr>\n",
       "      <th>count</th>\n",
       "      <td>185190.000000</td>\n",
       "      <td>185190.000000</td>\n",
       "      <td>185190.000000</td>\n",
       "      <td>185190.000000</td>\n",
       "      <td>185190.000000</td>\n",
       "      <td>185190.000000</td>\n",
       "      <td>185190.000000</td>\n",
       "    </tr>\n",
       "    <tr>\n",
       "      <th>mean</th>\n",
       "      <td>721.550964</td>\n",
       "      <td>0.326146</td>\n",
       "      <td>0.399703</td>\n",
       "      <td>0.249819</td>\n",
       "      <td>35.373098</td>\n",
       "      <td>0.170101</td>\n",
       "      <td>0.262892</td>\n",
       "    </tr>\n",
       "    <tr>\n",
       "      <th>std</th>\n",
       "      <td>1249.809447</td>\n",
       "      <td>0.468803</td>\n",
       "      <td>0.489839</td>\n",
       "      <td>0.432909</td>\n",
       "      <td>10.994772</td>\n",
       "      <td>0.375723</td>\n",
       "      <td>0.440206</td>\n",
       "    </tr>\n",
       "    <tr>\n",
       "      <th>min</th>\n",
       "      <td>180.000000</td>\n",
       "      <td>0.000000</td>\n",
       "      <td>0.000000</td>\n",
       "      <td>0.000000</td>\n",
       "      <td>17.000000</td>\n",
       "      <td>0.000000</td>\n",
       "      <td>0.000000</td>\n",
       "    </tr>\n",
       "    <tr>\n",
       "      <th>25%</th>\n",
       "      <td>377.000000</td>\n",
       "      <td>0.000000</td>\n",
       "      <td>0.000000</td>\n",
       "      <td>0.000000</td>\n",
       "      <td>27.000000</td>\n",
       "      <td>0.000000</td>\n",
       "      <td>0.000000</td>\n",
       "    </tr>\n",
       "    <tr>\n",
       "      <th>50%</th>\n",
       "      <td>562.000000</td>\n",
       "      <td>0.000000</td>\n",
       "      <td>0.000000</td>\n",
       "      <td>0.000000</td>\n",
       "      <td>32.000000</td>\n",
       "      <td>0.000000</td>\n",
       "      <td>0.000000</td>\n",
       "    </tr>\n",
       "    <tr>\n",
       "      <th>75%</th>\n",
       "      <td>860.000000</td>\n",
       "      <td>1.000000</td>\n",
       "      <td>1.000000</td>\n",
       "      <td>0.000000</td>\n",
       "      <td>42.000000</td>\n",
       "      <td>0.000000</td>\n",
       "      <td>1.000000</td>\n",
       "    </tr>\n",
       "    <tr>\n",
       "      <th>max</th>\n",
       "      <td>85040.000000</td>\n",
       "      <td>1.000000</td>\n",
       "      <td>1.000000</td>\n",
       "      <td>1.000000</td>\n",
       "      <td>78.000000</td>\n",
       "      <td>1.000000</td>\n",
       "      <td>1.000000</td>\n",
       "    </tr>\n",
       "  </tbody>\n",
       "</table>\n",
       "</div>"
      ],
      "text/plain": [
       "            duration        morning      afternoon        evening  \\\n",
       "count  185190.000000  185190.000000  185190.000000  185190.000000   \n",
       "mean      721.550964       0.326146       0.399703       0.249819   \n",
       "std      1249.809447       0.468803       0.489839       0.432909   \n",
       "min       180.000000       0.000000       0.000000       0.000000   \n",
       "25%       377.000000       0.000000       0.000000       0.000000   \n",
       "50%       562.000000       0.000000       0.000000       0.000000   \n",
       "75%       860.000000       1.000000       1.000000       0.000000   \n",
       "max     85040.000000       1.000000       1.000000       1.000000   \n",
       "\n",
       "                 age    weekend_day         female  \n",
       "count  185190.000000  185190.000000  185190.000000  \n",
       "mean       35.373098       0.170101       0.262892  \n",
       "std        10.994772       0.375723       0.440206  \n",
       "min        17.000000       0.000000       0.000000  \n",
       "25%        27.000000       0.000000       0.000000  \n",
       "50%        32.000000       0.000000       0.000000  \n",
       "75%        42.000000       0.000000       1.000000  \n",
       "max        78.000000       1.000000       1.000000  "
      ]
     },
     "execution_count": 6,
     "metadata": {},
     "output_type": "execute_result"
    }
   ],
   "source": [
    "df.describe()"
   ]
  },
  {
   "cell_type": "code",
   "execution_count": 7,
   "metadata": {
    "scrolled": true
   },
   "outputs": [
    {
     "data": {
      "text/plain": [
       "duration       False\n",
       "morning        False\n",
       "afternoon      False\n",
       "evening        False\n",
       "age            False\n",
       "weekend_day    False\n",
       "female         False\n",
       "dtype: bool"
      ]
     },
     "execution_count": 7,
     "metadata": {},
     "output_type": "execute_result"
    }
   ],
   "source": [
    "# check for NaN values\n",
    "df.isnull().any()"
   ]
  },
  {
   "cell_type": "markdown",
   "metadata": {},
   "source": [
    " **1.a)**  Why is it important to normalize data and what do you expect to happen in your\n",
    "analysis if variables are not normalized?\n",
    "\n",
    "Normalizing the features is important when we compare measurements that have different units. Variables that are measured at different scales do not contribute equally to the analysis and might end up creating a bias.\n",
    "For example, A variable that ranges between 0 and 1000 will outweigh a variable that ranges between 0 and 1. Using these variables without normalization will give the variable with the larger range, weight of 1000 in the analysis.\n",
    "\n",
    "\n",
    "\n"
   ]
  },
  {
   "cell_type": "markdown",
   "metadata": {},
   "source": [
    "**1.b)** Process the variables so that each variable has mean 0 and standard deviation 1."
   ]
  },
  {
   "cell_type": "code",
   "execution_count": 37,
   "metadata": {
    "scrolled": false
   },
   "outputs": [
    {
     "data": {
      "text/html": [
       "<div>\n",
       "<style scoped>\n",
       "    .dataframe tbody tr th:only-of-type {\n",
       "        vertical-align: middle;\n",
       "    }\n",
       "\n",
       "    .dataframe tbody tr th {\n",
       "        vertical-align: top;\n",
       "    }\n",
       "\n",
       "    .dataframe thead th {\n",
       "        text-align: right;\n",
       "    }\n",
       "</style>\n",
       "<table border=\"1\" class=\"dataframe\">\n",
       "  <thead>\n",
       "    <tr style=\"text-align: right;\">\n",
       "      <th></th>\n",
       "      <th>duration</th>\n",
       "      <th>morning</th>\n",
       "      <th>afternoon</th>\n",
       "      <th>evening</th>\n",
       "      <th>age</th>\n",
       "      <th>weekend_day</th>\n",
       "      <th>female</th>\n",
       "    </tr>\n",
       "  </thead>\n",
       "  <tbody>\n",
       "    <tr>\n",
       "      <th>0</th>\n",
       "      <td>-0.407704</td>\n",
       "      <td>0</td>\n",
       "      <td>1</td>\n",
       "      <td>0</td>\n",
       "      <td>-1.67108</td>\n",
       "      <td>0</td>\n",
       "      <td>0</td>\n",
       "    </tr>\n",
       "    <tr>\n",
       "      <th>1</th>\n",
       "      <td>-0.394102</td>\n",
       "      <td>0</td>\n",
       "      <td>1</td>\n",
       "      <td>0</td>\n",
       "      <td>-1.67108</td>\n",
       "      <td>0</td>\n",
       "      <td>0</td>\n",
       "    </tr>\n",
       "    <tr>\n",
       "      <th>2</th>\n",
       "      <td>-0.370098</td>\n",
       "      <td>0</td>\n",
       "      <td>0</td>\n",
       "      <td>1</td>\n",
       "      <td>-1.67108</td>\n",
       "      <td>1</td>\n",
       "      <td>1</td>\n",
       "    </tr>\n",
       "    <tr>\n",
       "      <th>3</th>\n",
       "      <td>-0.358896</td>\n",
       "      <td>0</td>\n",
       "      <td>1</td>\n",
       "      <td>0</td>\n",
       "      <td>-1.67108</td>\n",
       "      <td>0</td>\n",
       "      <td>0</td>\n",
       "    </tr>\n",
       "    <tr>\n",
       "      <th>4</th>\n",
       "      <td>-0.354096</td>\n",
       "      <td>0</td>\n",
       "      <td>1</td>\n",
       "      <td>0</td>\n",
       "      <td>-1.67108</td>\n",
       "      <td>0</td>\n",
       "      <td>1</td>\n",
       "    </tr>\n",
       "  </tbody>\n",
       "</table>\n",
       "</div>"
      ],
      "text/plain": [
       "   duration  morning  afternoon  evening      age  weekend_day  female\n",
       "0 -0.407704        0          1        0 -1.67108            0       0\n",
       "1 -0.394102        0          1        0 -1.67108            0       0\n",
       "2 -0.370098        0          0        1 -1.67108            1       1\n",
       "3 -0.358896        0          1        0 -1.67108            0       0\n",
       "4 -0.354096        0          1        0 -1.67108            0       1"
      ]
     },
     "execution_count": 37,
     "metadata": {},
     "output_type": "execute_result"
    }
   ],
   "source": [
    "# Since it's useless to standardize categorical features I standardize only the continous features: duration and age\n",
    "sc_x = StandardScaler()\n",
    "df['duration'] = sc_x.fit_transform(df[['duration']])\n",
    "df['age'] = sc_x.fit_transform(df[['age']])\n",
    "df.head()"
   ]
  },
  {
   "cell_type": "markdown",
   "metadata": {},
   "source": [
    "After scaling I want to see if we can get rid of some not informative features with **Principal Component Analysis**.  \n",
    "\n",
    "**PCA** has 2 step:\n",
    "- **Decorrelation**( by rotating data samples to be aligned with axes and then shifting them to have mean 0)\n",
    "- **Reduces dimension**(by choosing features with significance variance)"
   ]
  },
  {
   "cell_type": "code",
   "execution_count": 38,
   "metadata": {},
   "outputs": [
    {
     "data": {
      "text/plain": [
       "<BarContainer object of 7 artists>"
      ]
     },
     "execution_count": 38,
     "metadata": {},
     "output_type": "execute_result"
    },
    {
     "data": {
      "image/png": "[encoded data removed]",
      "text/plain": [
       "<Figure size 432x288 with 1 Axes>"
      ]
     },
     "metadata": {
      "needs_background": "light"
     },
     "output_type": "display_data"
    }
   ],
   "source": [
    "pca = PCA()\n",
    "pca.fit(df)\n",
    "features = range(pca.n_components_)\n",
    "plt.bar(features, pca.explained_variance_)"
   ]
  },
  {
   "cell_type": "markdown",
   "metadata": {},
   "source": [
    "Choosing instrinsic dimension is an idealization, since there isn't always one correct answer.\n",
    "\n",
    "In this case I decide to stick with all features but **'female'**"
   ]
  },
  {
   "cell_type": "code",
   "execution_count": 39,
   "metadata": {},
   "outputs": [
    {
     "data": {
      "text/html": [
       "<div>\n",
       "<style scoped>\n",
       "    .dataframe tbody tr th:only-of-type {\n",
       "        vertical-align: middle;\n",
       "    }\n",
       "\n",
       "    .dataframe tbody tr th {\n",
       "        vertical-align: top;\n",
       "    }\n",
       "\n",
       "    .dataframe thead th {\n",
       "        text-align: right;\n",
       "    }\n",
       "</style>\n",
       "<table border=\"1\" class=\"dataframe\">\n",
       "  <thead>\n",
       "    <tr style=\"text-align: right;\">\n",
       "      <th></th>\n",
       "      <th>duration</th>\n",
       "      <th>morning</th>\n",
       "      <th>afternoon</th>\n",
       "      <th>evening</th>\n",
       "      <th>age</th>\n",
       "      <th>weekend_day</th>\n",
       "    </tr>\n",
       "  </thead>\n",
       "  <tbody>\n",
       "    <tr>\n",
       "      <th>0</th>\n",
       "      <td>-0.407704</td>\n",
       "      <td>0</td>\n",
       "      <td>1</td>\n",
       "      <td>0</td>\n",
       "      <td>-1.67108</td>\n",
       "      <td>0</td>\n",
       "    </tr>\n",
       "    <tr>\n",
       "      <th>1</th>\n",
       "      <td>-0.394102</td>\n",
       "      <td>0</td>\n",
       "      <td>1</td>\n",
       "      <td>0</td>\n",
       "      <td>-1.67108</td>\n",
       "      <td>0</td>\n",
       "    </tr>\n",
       "    <tr>\n",
       "      <th>2</th>\n",
       "      <td>-0.370098</td>\n",
       "      <td>0</td>\n",
       "      <td>0</td>\n",
       "      <td>1</td>\n",
       "      <td>-1.67108</td>\n",
       "      <td>1</td>\n",
       "    </tr>\n",
       "    <tr>\n",
       "      <th>3</th>\n",
       "      <td>-0.358896</td>\n",
       "      <td>0</td>\n",
       "      <td>1</td>\n",
       "      <td>0</td>\n",
       "      <td>-1.67108</td>\n",
       "      <td>0</td>\n",
       "    </tr>\n",
       "    <tr>\n",
       "      <th>4</th>\n",
       "      <td>-0.354096</td>\n",
       "      <td>0</td>\n",
       "      <td>1</td>\n",
       "      <td>0</td>\n",
       "      <td>-1.67108</td>\n",
       "      <td>0</td>\n",
       "    </tr>\n",
       "  </tbody>\n",
       "</table>\n",
       "</div>"
      ],
      "text/plain": [
       "   duration  morning  afternoon  evening      age  weekend_day\n",
       "0 -0.407704        0          1        0 -1.67108            0\n",
       "1 -0.394102        0          1        0 -1.67108            0\n",
       "2 -0.370098        0          0        1 -1.67108            1\n",
       "3 -0.358896        0          1        0 -1.67108            0\n",
       "4 -0.354096        0          1        0 -1.67108            0"
      ]
     },
     "execution_count": 39,
     "metadata": {},
     "output_type": "execute_result"
    }
   ],
   "source": [
    "del df['female']\n",
    "df.head()"
   ]
  },
  {
   "cell_type": "markdown",
   "metadata": {},
   "source": [
    "**2)** Use a clustering algorithm on your normalized dataset. Your boss suggests that **10 clusters**\n",
    "should be created.\n",
    "\n",
    "Since we are in **UNsupervised learning** we can choose from **k-means** and **hierarchical clustering**. However the latter is computationally very heavy, so I chose **k-means**."
   ]
  },
  {
   "cell_type": "code",
   "execution_count": 40,
   "metadata": {},
   "outputs": [],
   "source": [
    "kmeans = KMeans(n_clusters = 10, init = 'k-means++', random_state = 42)\n",
    "y_kmeans = kmeans.fit_predict(df)"
   ]
  },
  {
   "cell_type": "markdown",
   "metadata": {},
   "source": [
    "**2.a)** How many observations are in each cluster?"
   ]
  },
  {
   "cell_type": "code",
   "execution_count": 41,
   "metadata": {
    "scrolled": true
   },
   "outputs": [
    {
     "data": {
      "text/plain": [
       "{0: 12729,\n",
       " 1: 21621,\n",
       " 2: 35407,\n",
       " 3: 100,\n",
       " 4: 20665,\n",
       " 5: 15072,\n",
       " 6: 38899,\n",
       " 7: 564,\n",
       " 8: 29579,\n",
       " 9: 10554}"
      ]
     },
     "execution_count": 41,
     "metadata": {},
     "output_type": "execute_result"
    }
   ],
   "source": [
    "dic_10 = {}\n",
    "for i in range(0,10):\n",
    "    dic_10[i] = np.count_nonzero(y_kmeans == i)\n",
    "dic_10"
   ]
  },
  {
   "cell_type": "markdown",
   "metadata": {},
   "source": [
    "**2.b/c/d** Compare the clusters by looking at the mean values of the variables (cluster\n",
    "centroids).\n",
    "\n",
    "Are there any clusters that you think may be more interesting than others?\n",
    "\n",
    "Looking at the obtained results, do you think it may be useful to perform a different\n",
    "market segmentation by increasing or by decreasing the number (K) of clusters to be\n",
    "generated?"
   ]
  },
  {
   "cell_type": "code",
   "execution_count": 42,
   "metadata": {
    "scrolled": true
   },
   "outputs": [
    {
     "data": {
      "text/plain": [
       "<matplotlib.collections.PathCollection at 0x2461bd1cd08>"
      ]
     },
     "execution_count": 42,
     "metadata": {},
     "output_type": "execute_result"
    },
    {
     "data": {
      "image/png": "[encoded data removed]",
      "text/plain": [
       "<Figure size 432x288 with 1 Axes>"
      ]
     },
     "metadata": {
      "needs_background": "light"
     },
     "output_type": "display_data"
    }
   ],
   "source": [
    "# add clusters to the dataset\n",
    "df['cluster.10'] = y_kmeans\n",
    "\n",
    "color = ['red', 'orange', 'yellow', 'green', 'brown', 'blue', 'cyan', 'purple', 'grey', 'black']\n",
    "\n",
    "sns.scatterplot(df['age'], df['duration'], hue = df['cluster.10'], palette = color)\n",
    "\n",
    "# Plotting cluster centers\n",
    "# 'kmeans.cluster_centers_[0][[4,0]]' 1st centroid with x = 'age'(4) and y = 'duration'(0)\n",
    "plt.scatter(kmeans.cluster_centers_[0][[4,0]][0],kmeans.cluster_centers_[0][[4,0]][1] , marker='o', s=100, color = 'red')\n",
    "plt.scatter(kmeans.cluster_centers_[1][[4,0]][0],kmeans.cluster_centers_[1][[4,0]][1] , marker='o', s=100, color = 'red')\n",
    "plt.scatter(kmeans.cluster_centers_[2][[4,0]][0],kmeans.cluster_centers_[2][[4,0]][1] , marker='o', s=100, color = 'red')\n",
    "plt.scatter(kmeans.cluster_centers_[3][[4,0]][0],kmeans.cluster_centers_[3][[4,0]][1] , marker='o', s=100, color = 'red')\n",
    "plt.scatter(kmeans.cluster_centers_[4][[4,0]][0],kmeans.cluster_centers_[4][[4,0]][1] , marker='o', s=100, color = 'red')\n",
    "plt.scatter(kmeans.cluster_centers_[5][[4,0]][0],kmeans.cluster_centers_[5][[4,0]][1] , marker='o', s=100, color = 'red')\n",
    "plt.scatter(kmeans.cluster_centers_[6][[4,0]][0],kmeans.cluster_centers_[6][[4,0]][1] , marker='o', s=100, color = 'red')\n",
    "plt.scatter(kmeans.cluster_centers_[7][[4,0]][0],kmeans.cluster_centers_[7][[4,0]][1] , marker='o', s=100, color = 'red')\n",
    "plt.scatter(kmeans.cluster_centers_[8][[4,0]][0],kmeans.cluster_centers_[8][[4,0]][1] , marker='o', s=100, color = 'red')\n",
    "plt.scatter(kmeans.cluster_centers_[9][[4,0]][0],kmeans.cluster_centers_[9][[4,0]][1] , marker='o', s=100, color = 'red')"
   ]
  },
  {
   "cell_type": "markdown",
   "metadata": {},
   "source": [
    "From the plot we can see that the clusters could be to many, and probably a right amount should be 4-5.\n",
    "\n",
    "\n",
    "To find the most precise number of cluster I will use the **Elbow method**"
   ]
  },
  {
   "cell_type": "code",
   "execution_count": 43,
   "metadata": {},
   "outputs": [],
   "source": [
    "# deleting the column with clusters since I don't need it anymore\n",
    "del df['cluster.10']"
   ]
  },
  {
   "cell_type": "code",
   "execution_count": 44,
   "metadata": {
    "scrolled": true
   },
   "outputs": [
    {
     "data": {
      "image/png": "[encoded data removed]",
      "text/plain": [
       "<Figure size 432x288 with 1 Axes>"
      ]
     },
     "metadata": {
      "needs_background": "light"
     },
     "output_type": "display_data"
    }
   ],
   "source": [
    "wcss = []\n",
    "for i in range(1, 11):\n",
    "    kmeans_elbow = KMeans(n_clusters = i, init = 'k-means++', random_state = 42)\n",
    "    kmeans_elbow.fit(df)\n",
    "    wcss.append(kmeans_elbow.inertia_)\n",
    "plt.plot(range(1, 11), wcss)\n",
    "plt.title('The Elbow Method')\n",
    "plt.xlabel('Number of clusters')\n",
    "plt.ylabel('WCSS')\n",
    "plt.show()"
   ]
  },
  {
   "cell_type": "markdown",
   "metadata": {},
   "source": [
    "Here the choice of cluster is clearly 3 since it's the biggest gain that we have."
   ]
  },
  {
   "cell_type": "markdown",
   "metadata": {},
   "source": [
    "**3)** Use the same clustering algorithm used in 2) on your (normalized) data with the new value of\n",
    "K"
   ]
  },
  {
   "cell_type": "code",
   "execution_count": 45,
   "metadata": {},
   "outputs": [],
   "source": [
    "kmeans_new = KMeans(n_clusters = 3, init = 'k-means++', random_state = 42)\n",
    "y_kmeans_new = kmeans_new.fit_predict(df)"
   ]
  },
  {
   "cell_type": "markdown",
   "metadata": {},
   "source": [
    "**3.a)** How many observations are now in each cluster?"
   ]
  },
  {
   "cell_type": "code",
   "execution_count": 46,
   "metadata": {},
   "outputs": [
    {
     "data": {
      "text/plain": [
       "{0: 126147, 1: 58939, 2: 104}"
      ]
     },
     "execution_count": 46,
     "metadata": {},
     "output_type": "execute_result"
    }
   ],
   "source": [
    "dic_3 = {}\n",
    "for i in range(0,3):\n",
    "    dic_3[i] = np.count_nonzero(y_kmeans_new == i)\n",
    "dic_3"
   ]
  },
  {
   "cell_type": "code",
   "execution_count": 47,
   "metadata": {},
   "outputs": [
    {
     "data": {
      "text/plain": [
       "<matplotlib.collections.PathCollection at 0x2461e148cc8>"
      ]
     },
     "execution_count": 47,
     "metadata": {},
     "output_type": "execute_result"
    },
    {
     "data": {
      "image/png": "[encoded data removed]",
      "text/plain": [
       "<Figure size 432x288 with 1 Axes>"
      ]
     },
     "metadata": {
      "needs_background": "light"
     },
     "output_type": "display_data"
    }
   ],
   "source": [
    "df['cluster.3'] = y_kmeans_new\n",
    "\n",
    "color = ['red', 'green', 'blue']\n",
    "\n",
    "sns.scatterplot(df['age'], df['duration'], hue = df['cluster.3'], palette = color)\n",
    "\n",
    "plt.scatter(kmeans_new.cluster_centers_[0][[4,0]][0],kmeans_new.cluster_centers_[0][[4,0]][1] , marker='o', s=100, color = 'yellow')\n",
    "plt.scatter(kmeans_new.cluster_centers_[1][[4,0]][0],kmeans_new.cluster_centers_[1][[4,0]][1] , marker='o', s=100, color = 'yellow')\n",
    "plt.scatter(kmeans_new.cluster_centers_[2][[4,0]][0],kmeans_new.cluster_centers_[2][[4,0]][1] , marker='o', s=100, color = 'yellow')"
   ]
  },
  {
   "cell_type": "markdown",
   "metadata": {},
   "source": [
    "With 3 clusters the plot has more sense. Infact we can say that the **'blue'** cluster can be considered the **'outlier cluster'** with only 104 observations. Then we have 2 cluster divided by age.\n",
    "\n",
    "Now I want to see which is the **age border** between the 2 clusters. I will plot the cluster with the original dataset."
   ]
  },
  {
   "cell_type": "code",
   "execution_count": 48,
   "metadata": {},
   "outputs": [
    {
     "data": {
      "text/plain": [
       "<matplotlib.axes._subplots.AxesSubplot at 0x2462300bb88>"
      ]
     },
     "execution_count": 48,
     "metadata": {},
     "output_type": "execute_result"
    },
    {
     "data": {
      "image/png": "[encoded data removed]",
      "text/plain": [
       "<Figure size 432x288 with 1 Axes>"
      ]
     },
     "metadata": {
      "needs_background": "light"
     },
     "output_type": "display_data"
    }
   ],
   "source": [
    "df = pd.read_csv(\"MarketSegmentation.csv\")\n",
    "df['cluster.3'] = y_kmeans_new\n",
    "\n",
    "sns.scatterplot(df['age'], df['duration'], hue = df['cluster.3'], palette = color)"
   ]
  },
  {
   "cell_type": "code",
   "execution_count": 49,
   "metadata": {},
   "outputs": [
    {
     "data": {
      "text/plain": [
       "40"
      ]
     },
     "execution_count": 49,
     "metadata": {},
     "output_type": "execute_result"
    }
   ],
   "source": [
    "df[df['cluster.3'] == 0]['age'].max() "
   ]
  },
  {
   "cell_type": "markdown",
   "metadata": {},
   "source": [
    "So we have a cluster that goes from 17-40, and from 40-78 almost.\n",
    "\n",
    "Let's see how the cluster divide themself in respect to **time**."
   ]
  },
  {
   "cell_type": "code",
   "execution_count": 50,
   "metadata": {
    "scrolled": true
   },
   "outputs": [
    {
     "data": {
      "text/html": [
       "<div>\n",
       "<style scoped>\n",
       "    .dataframe tbody tr th:only-of-type {\n",
       "        vertical-align: middle;\n",
       "    }\n",
       "\n",
       "    .dataframe tbody tr th {\n",
       "        vertical-align: top;\n",
       "    }\n",
       "\n",
       "    .dataframe thead tr th {\n",
       "        text-align: left;\n",
       "    }\n",
       "\n",
       "    .dataframe thead tr:last-of-type th {\n",
       "        text-align: right;\n",
       "    }\n",
       "</style>\n",
       "<table border=\"1\" class=\"dataframe\">\n",
       "  <thead>\n",
       "    <tr>\n",
       "      <th>morning</th>\n",
       "      <th colspan=\"3\" halign=\"left\">0</th>\n",
       "      <th>1</th>\n",
       "    </tr>\n",
       "    <tr>\n",
       "      <th>afternoon</th>\n",
       "      <th colspan=\"2\" halign=\"left\">0</th>\n",
       "      <th>1</th>\n",
       "      <th>0</th>\n",
       "    </tr>\n",
       "    <tr>\n",
       "      <th>evening</th>\n",
       "      <th>0</th>\n",
       "      <th>1</th>\n",
       "      <th>0</th>\n",
       "      <th>0</th>\n",
       "    </tr>\n",
       "    <tr>\n",
       "      <th>clusters</th>\n",
       "      <th></th>\n",
       "      <th></th>\n",
       "      <th></th>\n",
       "      <th></th>\n",
       "    </tr>\n",
       "  </thead>\n",
       "  <tbody>\n",
       "    <tr>\n",
       "      <th>0</th>\n",
       "      <td>3984</td>\n",
       "      <td>37832</td>\n",
       "      <td>46698</td>\n",
       "      <td>37633</td>\n",
       "    </tr>\n",
       "    <tr>\n",
       "      <th>1</th>\n",
       "      <td>510</td>\n",
       "      <td>8374</td>\n",
       "      <td>27311</td>\n",
       "      <td>22744</td>\n",
       "    </tr>\n",
       "    <tr>\n",
       "      <th>2</th>\n",
       "      <td>12</td>\n",
       "      <td>58</td>\n",
       "      <td>12</td>\n",
       "      <td>22</td>\n",
       "    </tr>\n",
       "  </tbody>\n",
       "</table>\n",
       "</div>"
      ],
      "text/plain": [
       "morning       0                    1\n",
       "afternoon     0             1      0\n",
       "evening       0      1      0      0\n",
       "clusters                            \n",
       "0          3984  37832  46698  37633\n",
       "1           510   8374  27311  22744\n",
       "2            12     58     12     22"
      ]
     },
     "execution_count": 50,
     "metadata": {},
     "output_type": "execute_result"
    }
   ],
   "source": [
    "mor = np.array(df['morning'])\n",
    "aft = np.array(df['afternoon'])\n",
    "eve = np.array(df['evening'])\n",
    "ct = pd.crosstab(y_kmeans_new, [mor, aft, eve], rownames = ['clusters'],\n",
    "                       colnames = ['morning', 'afternoon', 'evening'])\n",
    "ct"
   ]
  },
  {
   "cell_type": "markdown",
   "metadata": {},
   "source": [
    "From this table we can get some insights:\n",
    "- there is a not negligible number of **'young'** that use the scooter **during the night (12.00am- 6.00am)**. (3984)\n",
    "- the **'older'** seems to use the scooter mostly in the **morning** and in the **afternoon**.\n",
    "\n",
    "Let's look at the **weekend usage**."
   ]
  },
  {
   "cell_type": "code",
   "execution_count": 51,
   "metadata": {},
   "outputs": [
    {
     "data": {
      "text/html": [
       "<div>\n",
       "<style scoped>\n",
       "    .dataframe tbody tr th:only-of-type {\n",
       "        vertical-align: middle;\n",
       "    }\n",
       "\n",
       "    .dataframe tbody tr th {\n",
       "        vertical-align: top;\n",
       "    }\n",
       "\n",
       "    .dataframe thead th {\n",
       "        text-align: right;\n",
       "    }\n",
       "</style>\n",
       "<table border=\"1\" class=\"dataframe\">\n",
       "  <thead>\n",
       "    <tr style=\"text-align: right;\">\n",
       "      <th>weekend</th>\n",
       "      <th>0</th>\n",
       "      <th>1</th>\n",
       "    </tr>\n",
       "    <tr>\n",
       "      <th>clusters</th>\n",
       "      <th></th>\n",
       "      <th></th>\n",
       "    </tr>\n",
       "  </thead>\n",
       "  <tbody>\n",
       "    <tr>\n",
       "      <th>0</th>\n",
       "      <td>101344</td>\n",
       "      <td>24803</td>\n",
       "    </tr>\n",
       "    <tr>\n",
       "      <th>1</th>\n",
       "      <td>52258</td>\n",
       "      <td>6681</td>\n",
       "    </tr>\n",
       "    <tr>\n",
       "      <th>2</th>\n",
       "      <td>87</td>\n",
       "      <td>17</td>\n",
       "    </tr>\n",
       "  </tbody>\n",
       "</table>\n",
       "</div>"
      ],
      "text/plain": [
       "weekend        0      1\n",
       "clusters               \n",
       "0         101344  24803\n",
       "1          52258   6681\n",
       "2             87     17"
      ]
     },
     "execution_count": 51,
     "metadata": {},
     "output_type": "execute_result"
    }
   ],
   "source": [
    "ct = pd.crosstab(y_kmeans_new, df['weekend_day'], rownames = ['clusters'],\n",
    "                       colnames = ['weekend'])\n",
    "ct"
   ]
  },
  {
   "cell_type": "markdown",
   "metadata": {},
   "source": [
    "As we could expect the percentage of user in the weekend is higher from the **'young'** cluster: $19.6\\%$, \n",
    "while the **'older'**: $11.3\\%$"
   ]
  },
  {
   "cell_type": "markdown",
   "metadata": {},
   "source": [
    "# The End"
   ]
  }
 ],
 "metadata": {
  "kernelspec": {
   "display_name": "Python 3",
   "language": "python",
   "name": "python3"
  },
  "language_info": {
   "codemirror_mode": {
    "name": "ipython",
    "version": 3
   },
   "file_extension": ".py",
   "mimetype": "text/x-python",
   "name": "python",
   "nbconvert_exporter": "python",
   "pygments_lexer": "ipython3",
   "version": "3.7.6"
  }
 },
 "nbformat": 4,
 "nbformat_minor": 4
}
